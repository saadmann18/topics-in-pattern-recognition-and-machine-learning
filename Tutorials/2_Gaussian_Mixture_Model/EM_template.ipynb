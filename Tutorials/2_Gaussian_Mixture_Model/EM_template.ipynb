{
 "cells": [
  {
   "cell_type": "markdown",
   "metadata": {
    "colab": {},
    "colab_type": "code",
    "id": "vNTasPpc65n-"
   },
   "source": [
    "# Gaussian Mixture Model (GMM) and Expectation Maximization Algorithm (EM)\n",
    "\n",
    "In this excercise we want to implement the EM algorithm for a GMM distribution.\n",
    "The GMM distribution is defined as:\n",
    "\\begin{align}\n",
    "    p(\\mathbf{x}) &= \\sum_{k=1}^{K} Pr(\\omega_k) p(\\mathbf{x} | \\omega_k) \\\\\n",
    "    &= \\sum_{k=1}^{K} \\pi_k \\mathcal{N}(\\mathbf{x}; \\mu_k, \\Sigma_k)\n",
    "\\end{align}\n",
    "where $\\mathbf{x}$ is a vector with $D$ entries.\n",
    "\n",
    "Your task is to implement the E-Step and M-Step for the GMM Model.\n",
    "\n",
    "A skeleton for the code is already prepared.\n",
    "\n",
    "Questions:\n",
    " - The GMM is a sum of densities and not of the random variables (RV).\n",
    "   What is the density of $\\mathbf{x}_3 = \\mathbf{x}_1 + \\mathbf{x}_2$ called,\n",
    "   when $\\mathbf{x}_1$ and $\\mathbf{x}_2$ are independent and sampled from a multivariate normal distributions?\n"
   ]
  },
  {
   "cell_type": "code",
   "execution_count": 1,
   "metadata": {
    "colab": {},
    "colab_type": "code",
    "id": "vNTasPpc65n-"
   },
   "outputs": [],
   "source": [
    "%matplotlib inline\n",
    "\n",
    "from dataclasses import dataclass\n",
    "\n",
    "import matplotlib as mpl\n",
    "import matplotlib.pyplot as plt\n",
    "from matplotlib.colors import ListedColormap, LinearSegmentedColormap\n",
    "\n",
    "import numpy as np\n",
    "\n",
    "import pandas as pd\n",
    "import seaborn as sns\n",
    "\n",
    "import sklearn.datasets\n",
    "import sklearn.model_selection\n",
    "from sklearn.mixture import GaussianMixture, BayesianGaussianMixture\n",
    "\n",
    "# Change the representer for large numpy arrays\n",
    "def string_function(a):\n",
    "    if a.size < 50:\n",
    "        return str(a)\n",
    "    else:\n",
    "        return f'array(shape={a.shape}, dtype={a.dtype})'\n",
    "np.set_string_function(string_function)"
   ]
  },
  {
   "cell_type": "code",
   "execution_count": 2,
   "metadata": {
    "colab": {},
    "colab_type": "code",
    "id": "Z6Hu1E9q65oA"
   },
   "outputs": [],
   "source": [
    "CMAP = 'Set1'\n",
    "N_CMAP = 8"
   ]
  },
  {
   "cell_type": "markdown",
   "metadata": {
    "colab_type": "text",
    "id": "oErygZcc65oC"
   },
   "source": [
    "# Helpers\n",
    "Briefly have a look at these helper functions and try to understand what they are doing"
   ]
  },
  {
   "cell_type": "code",
   "execution_count": 3,
   "metadata": {
    "colab": {},
    "colab_type": "code",
    "id": "TDsI0_D265oH"
   },
   "outputs": [],
   "source": [
    "def generate_data(classes, samples_per_class, class_sep=1.0):\n",
    "    np.random.seed(0)\n",
    "    d, labels = sklearn.datasets.make_classification(\n",
    "        n_samples=samples_per_class, n_features=2, n_informative=2, n_redundant=0,\n",
    "        n_repeated=0, n_classes=classes, n_clusters_per_class=1, weights=None, flip_y=0.01,\n",
    "        class_sep=class_sep, hypercube=True, shift=0.0, scale=1.0, shuffle=True)\n",
    "    data = dict()\n",
    "    tr_x, test_x, tr_label, test_label = \\\n",
    "        sklearn.model_selection.train_test_split(d, labels)\n",
    "    return {'train': {'x': tr_x, 'label': tr_label}, 'test': {'x': test_x, 'label': test_label}}"
   ]
  },
  {
   "cell_type": "code",
   "execution_count": 4,
   "metadata": {},
   "outputs": [],
   "source": [
    "def scatterplot(x, y, hue, data, ax=None):\n",
    "    # Calculate hue_order to prevent random legend order.\n",
    "    # Insert the colormap\n",
    "    hue_order = list(sorted(set(data[hue])))\n",
    "    return sns.scatterplot(data=data, x=x, y=y, hue=hue, palette=CMAP, ax=ax, hue_order=hue_order)"
   ]
  },
  {
   "cell_type": "code",
   "execution_count": 5,
   "metadata": {
    "colab": {},
    "colab_type": "code",
    "id": "Z-yscUTa65oP"
   },
   "outputs": [],
   "source": [
    "def _set_alpha(rgba, alpha):\n",
    "    rgba_ = list(rgba)\n",
    "    if len(rgba_) == 3:\n",
    "        rgba_.append(alpha)\n",
    "    elif len(rgba_) == 4:\n",
    "        rgba_[-1] = alpha\n",
    "    else:\n",
    "        raise ValueError(rgba_)\n",
    "    return tuple(rgba_)\n",
    "\n",
    "def get_component_cmap(c, N, alpha=1.):\n",
    "    cmap = plt.get_cmap(CMAP)\n",
    "    # c *= int(N_CMAP / (N-1))  # for numeric data\n",
    "    return LinearSegmentedColormap.from_list('test', [_set_alpha(cmap(c), 0), _set_alpha(cmap(c), alpha)])\n",
    "\n",
    "def plot_prediction(estimator, density='pi * p(x|omega)'):\n",
    "    n_classes = estimator.n_components\n",
    "    pred_labels = estimator.predict(data['test']['x'])  \n",
    "    \n",
    "    fig, (ax1, ax2) = plt.subplots(1, 2, sharey=True, figsize=(15, 7))\n",
    "    df = pd.DataFrame({\n",
    "        '$x_1$': data['test']['x'][:, 0],\n",
    "        '$x_2$': data['test']['x'][:, 1],\n",
    "        'pred_label': [f'k={l}' for l in pred_labels],\n",
    "        'true_label': [f'k={l}' for l in data['test']['label']],\n",
    "        'classified': [\n",
    "            'correct' if true_label == pred_label else 'wrong'\n",
    "            for true_label, pred_label in zip(data['test']['label'], pred_labels)\n",
    "        ]\n",
    "    })\n",
    "    scatterplot(data=df, x='$x_1$', y='$x_2$', hue='true_label', ax=ax1)\n",
    "    scatterplot(data=df, x='$x_1$', y='$x_2$', hue='pred_label', ax=ax2)\n",
    "    \n",
    "    x_min, x_max = np.min(data['test']['x'][:, 0]), np.max(data['test']['x'][:, 0])\n",
    "    y_min, y_max = np.min(data['test']['x'][:, 1]), np.max(data['test']['x'][:, 1])\n",
    "    X, Y = np.meshgrid(np.arange(x_min, x_max, 0.1), np.arange(y_min, y_max, 0.1))\n",
    "\n",
    "    if density == 'pi * p(x|omega)':\n",
    "        Z = np.exp(estimator._estimate_log_prob(np.vstack((X.flatten(), Y.flatten())).T))\n",
    "    elif density == 'p(omega|x)':\n",
    "        Z = estimator.predict_proba(np.vstack((X.flatten(), Y.flatten())).T)\n",
    "    else:\n",
    "        raise ValueError(density)\n",
    "\n",
    "    for c in range(n_classes):\n",
    "        alpha = estimator.weights_[c]\n",
    "        if density == 'p(omega|x)':\n",
    "            alpha = 1 / n_classes\n",
    "        ax2.contourf(X, Y, Z[:, c].reshape(X.shape), cmap=get_component_cmap(c, n_classes, alpha))"
   ]
  },
  {
   "cell_type": "code",
   "execution_count": 6,
   "metadata": {
    "colab": {},
    "colab_type": "code",
    "id": "UXbQKHFZ65oT"
   },
   "outputs": [],
   "source": [
    "def plot_data(data):\n",
    "    _, (ax1, ax2) = plt.subplots(1, 2, sharey=True, figsize=(15, 7))\n",
    "    \n",
    "    df = pd.DataFrame({\n",
    "        '$x_1$': data['train']['x'][:, 0],\n",
    "        '$x_2$': data['train']['x'][:, 1],\n",
    "        'true_label': [f'k={l}' for l in data['train']['label']],\n",
    "    })\n",
    "    scatterplot(data=df, x='$x_1$', y='$x_2$', hue='true_label', ax=ax1)\n",
    "    ax1.set_title('train data')\n",
    "    ax1.grid()\n",
    "    df = pd.DataFrame({\n",
    "        '$x_1$': data['test']['x'][:, 0],\n",
    "        '$x_2$': data['test']['x'][:, 1],\n",
    "        'true_label': [f'k={l}' for l in data['test']['label']],\n",
    "    })\n",
    "    scatterplot(data=df, x='$x_1$', y='$x_2$', hue='true_label', ax=ax2)\n",
    "    ax2.set_title('test data')\n",
    "    ax2.grid()"
   ]
  },
  {
   "cell_type": "markdown",
   "metadata": {
    "colab_type": "text",
    "id": "J_EClCmU65oV"
   },
   "source": [
    "# Gaussian data"
   ]
  },
  {
   "cell_type": "code",
   "execution_count": 7,
   "metadata": {
    "colab": {},
    "colab_type": "code",
    "id": "JQAmWZrh65oV"
   },
   "outputs": [],
   "source": [
    "data = generate_data(3, 1000)"
   ]
  },
  {
   "cell_type": "code",
   "execution_count": 8,
   "metadata": {
    "colab": {
     "base_uri": "https://localhost:8080/",
     "height": 34
    },
    "colab_type": "code",
    "id": "xOugBV5yDri5",
    "outputId": "d559e71c-384b-45a6-9f89-fff937f26ba2"
   },
   "outputs": [
    {
     "data": {
      "text/plain": [
       "{'train': {'x': array(shape=(750, 2), dtype=float64),\n",
       "  'label': array(shape=(750,), dtype=int64)},\n",
       " 'test': {'x': array(shape=(250, 2), dtype=float64),\n",
       "  'label': array(shape=(250,), dtype=int64)}}"
      ]
     },
     "execution_count": 8,
     "metadata": {},
     "output_type": "execute_result"
    }
   ],
   "source": [
    "data"
   ]
  },
  {
   "cell_type": "code",
   "execution_count": 9,
   "metadata": {
    "colab": {
     "base_uri": "https://localhost:8080/",
     "height": 347
    },
    "colab_type": "code",
    "id": "v2a2CTEN65oa",
    "outputId": "9e5783a7-0d75-4b82-cbe5-636cb2cda8a3"
   },
   "outputs": [
    {
     "data": {
      "image/png": "[encoded data removed]",
      "text/plain": [
       "<Figure size 1080x504 with 2 Axes>"
      ]
     },
     "metadata": {
      "needs_background": "light"
     },
     "output_type": "display_data"
    }
   ],
   "source": [
    "plot_data(data)"
   ]
  },
  {
   "cell_type": "markdown",
   "metadata": {
    "colab_type": "text",
    "id": "R5jg_OMSF1Kg"
   },
   "source": [
    "# Calculate the mean for each class to use it as an oracle initialization later"
   ]
  },
  {
   "cell_type": "code",
   "execution_count": 0,
   "metadata": {
    "colab": {},
    "colab_type": "code",
    "id": "MutAMn4LVETZ"
   },
   "outputs": [],
   "source": [
    "means_init = ???\n",
    "means_init"
   ]
  },
  {
   "cell_type": "markdown",
   "metadata": {
    "colab_type": "text",
    "id": "KJ-rcHDSVFfA"
   },
   "source": [
    "# Write your own GMM class"
   ]
  },
  {
   "cell_type": "markdown",
   "metadata": {
    "colab_type": "text",
    "id": "lBfPesUUXV3q"
   },
   "source": [
    "Use the skeleton below to write your own GMM which can be fitted to the data with the EM-Algorithm"
   ]
  },
  {
   "cell_type": "code",
   "execution_count": 0,
   "metadata": {
    "colab": {},
    "colab_type": "code",
    "id": "dzWsIll965oh"
   },
   "outputs": [],
   "source": [
    "class GMM:\n",
    "    def __init__(self, n_components=3, tol=0.001, max_iter=100,\n",
    "                 means_init=None):\n",
    "        self.n_components = n_components  # number of clusters\n",
    "        self.tol = tol  # threshold to stop\n",
    "        self.max_iter = max_iter  # maximum number of iterations\n",
    "        self.means_init = means_init\n",
    "        self.means = None\n",
    "        self.covariances = None\n",
    "        self.weights = None\n",
    "        self.log_likelihoods = None\n",
    "\n",
    "    @staticmethod\n",
    "    def _calculate_probabilities_for_gaussian(X, mu, sigma):\n",
    "        \"\"\"\n",
    "        Calculate the probabilities N(x; mu, sigma)\n",
    "        for each datapoint in X given the parameters mu and sigma\n",
    "\n",
    "        Args:\n",
    "            X: datapoints of shape [n_datapoints, n_dims]\n",
    "            mu_k: mean vector of shape [n_dims]\n",
    "            sigma_k: covariance matrix of shape [n_dims, n_dims]\n",
    "            \n",
    "        Return:\n",
    "            probabilities for each datapoint [n_datapoints]\n",
    "        \"\"\"\n",
    "        x_centered = X - mu\n",
    "        exponent = ???  # x_n.T @ sigma @ x_n\n",
    "        return ??? # ... gaussian probability\n",
    "    \n",
    "    def _estimate_log_prob(self, X):\n",
    "        \"\"\"\n",
    "        Calculate the log-probabilities log(p(x|omega)) for each component.\n",
    "\n",
    "        Args:\n",
    "            X: datapoints of shape [n_datapoints, n_dims]\n",
    "\n",
    "        Return:\n",
    "            log_probabilities: probabilities for each datapoint [n_datapoints, n_components]\n",
    "        \"\"\"\n",
    "        return ???\n",
    "    \n",
    "    def _estimate_weighted_log_prob(self, X):\n",
    "        \"\"\"\n",
    "        Calculate the weighted log-probabilities, log(p(x|omega)) + log(pi).\n",
    "\n",
    "        Args:\n",
    "            X: datapoints of shape [n_datapoints, n_dims]\n",
    "\n",
    "        Return:\n",
    "            weighted_log_probabilities: probabilities for each datapoint [n_datapoints, n_components]\n",
    "        \"\"\"\n",
    "        return ???\n",
    "\n",
    "    def fit(self, X):\n",
    "\n",
    "        n_datapoints, n_dims = X.shape\n",
    "\n",
    "        if self.means_init is None:\n",
    "            # randomly choose the starting centroids/means\n",
    "            # as `self.n_components` of the points from datasets\n",
    "            mu = ???\n",
    "        else:\n",
    "            mu = self.means_init\n",
    "\n",
    "        # initialize the covariance matrices for each Gaussians as\n",
    "        # an identity matrix. I.e. sigma should be a list with\n",
    "        # identity matrices of appropriate dimension\n",
    "        sigma = ???\n",
    "\n",
    "        # initialize the probabilities/weights for each gaussians\n",
    "        # with uniform probability\n",
    "        weights = ???\n",
    "\n",
    "        # log_likelihoods\n",
    "        log_likelihoods = []\n",
    "\n",
    "        # Iterate till max_iters iterations\n",
    "        for _ in range(self.max_iter):\n",
    "\n",
    "            # E - Step\n",
    "\n",
    "            # Create a [n_datapoints, n_components] matrix with the probability\n",
    "            # for each observation for each component: pi_k * N(x_n; mu_k, sigma_k)\n",
    "            responsibility_matrix = list()\n",
    "            for k in range(self.n_components):\n",
    "                ???\n",
    "            responsibility_matrix = ???\n",
    "\n",
    "            # Likelihood computation\n",
    "            log_likelihood = np.sum(\n",
    "                np.log(np.sum(responsibility_matrix, axis=1)))\n",
    "            log_likelihoods.append(log_likelihood)\n",
    "\n",
    "            # Normalize so that the responsibility matrix is row stochastic\n",
    "            responsibility_matrix /= ???\n",
    "            \n",
    "            # The effective number of datapoints belonging to each gaussian.\n",
    "            # Calculated by summing over the posterior.\n",
    "            N_ks = ???\n",
    "\n",
    "            # M - Step for each component\n",
    "            for k in range(self.n_components):\n",
    "                # mean vector\n",
    "                mu[k] = ???\n",
    "                x_mu = ???\n",
    "\n",
    "                # covariance matrix\n",
    "                sigma[k] = ???\n",
    "\n",
    "                # weight vector\n",
    "                weights[k] = ???\n",
    "            # check for convergence\n",
    "            if len(log_likelihoods) >= 2:\n",
    "                if np.abs(log_likelihood - log_likelihoods[-2]) < self.tol:\n",
    "                    break\n",
    "\n",
    "        # Set the new parameters\n",
    "        self.means = mu\n",
    "        self.means_ = mu  # for API compatibility with sklearn\n",
    "        self.covariances = sigma\n",
    "        self.covariances_ = sigma  # for API compatibility with sklearn\n",
    "        self.weights = weights\n",
    "        self.weights_ = weights  # for API compatibility with sklearn\n",
    "        self.log_likelihoods = log_likelihoods\n",
    "\n",
    "    def predict(self, X):\n",
    "        \"\"\"\n",
    "        Predicts the class affinities for each datapoint.\n",
    "\n",
    "        Args:\n",
    "            X: datapoints of size [n_datapoints, n_dims]\n",
    "        Returns:\n",
    "            A vector of size [n_datapoints] with the index of the most\n",
    "            likely component associated with each datapoint\n",
    "        \"\"\"\n",
    "        probs = self.predict_proba(X)\n",
    "        return np.argmax(probs, axis=1)\n",
    "\n",
    "    def predict_proba(self, X):\n",
    "        \"\"\"\n",
    "        Predicts the posterior probabilities for each datapoint for each component.\n",
    "\n",
    "        Args:\n",
    "            X: datapoints of size [n_datapoints, n_dims]\n",
    "        Returns:\n",
    "            A [n_datapoints, n_components] matrix with the probabilities\n",
    "            for each datapoint for each component\n",
    "        \"\"\"\n",
    "        return ???"
   ]
  },
  {
   "cell_type": "code",
   "execution_count": 0,
   "metadata": {
    "colab": {},
    "colab_type": "code",
    "id": "sv0K-WbH65om"
   },
   "outputs": [],
   "source": [
    "def get_fitted_estimator(n_classes, means_init=None):\n",
    "    estimator = GMM(means_init=means_init)\n",
    "    estimator.fit(data['train']['x'])\n",
    "    return estimator"
   ]
  },
  {
   "cell_type": "markdown",
   "metadata": {},
   "source": [
    "## Fit a GMM estimator\n",
    " - Why are the predicted label sometimes swapped?\n",
    " - What is the difference between the two density option for the plot function?\n",
    "   - Can you explain what they show?"
   ]
  },
  {
   "cell_type": "code",
   "execution_count": 0,
   "metadata": {
    "colab": {
     "base_uri": "https://localhost:8080/",
     "height": 428
    },
    "colab_type": "code",
    "id": "vOknqexqQqnJ",
    "outputId": "0678c64f-7266-4fe7-f977-992a8c8c4606"
   },
   "outputs": [],
   "source": [
    "\n",
    "estimator = get_fitted_estimator(3, None)\n",
    "plot_prediction(estimator, density='pi * p(x|omega)')\n",
    "plot_prediction(estimator, density='p(omega|x)')"
   ]
  },
  {
   "cell_type": "code",
   "execution_count": 0,
   "metadata": {
    "colab": {
     "base_uri": "https://localhost:8080/",
     "height": 428
    },
    "colab_type": "code",
    "id": "g2H63dtCV7d6",
    "outputId": "ce121830-55e8-4126-a12f-1f288beeb2a0"
   },
   "outputs": [],
   "source": [
    "plot_prediction(get_fitted_estimator(3, means_init))"
   ]
  },
  {
   "cell_type": "markdown",
   "metadata": {},
   "source": [
    "## Score the estimation\n",
    "\n",
    "One way to score the estimation is to calculate the accuracy.\n",
    "To calculate the accuracy we need to know if each datapoint is classified correct or wrong.\n",
    "\n",
    "The function `plot_prediction` defines `classified` for the `pd.DataFrame`.\n",
    "This can be used as alternative visualisation of the `pred_label` or `true_label`.\n",
    "\n",
    " - Change the souce code of `plot_prediction` to show 3 plots.\n",
    " - The third plot should show if a point is `correct` or `wrong` `classified`.\n",
    " - Try to observe the following when you execute `plot_prediction(get_fitted_estimator(3))`:\n",
    "    - Most samples are `correct` classified\n",
    "    - Most samples are `wrong` classified\n",
    " - Do you have an idea, what is wrong in the calculation of `classified`?\n",
    " - Can you fix it?"
   ]
  },
  {
   "cell_type": "markdown",
   "metadata": {
    "colab_type": "text",
    "id": "qM-mTMoGXgeQ"
   },
   "source": [
    "# SKlearn"
   ]
  },
  {
   "cell_type": "markdown",
   "metadata": {
    "colab_type": "text",
    "id": "OoIsTzBHEuz4"
   },
   "source": [
    "Instead of writing our own code , we can also use an available package, in this case `sklearn`.\n",
    "Take a look at the `sklearn.mixture` module and especially the class `GaussianMixture`.\n",
    "Complete the function below and explore the parameter options."
   ]
  },
  {
   "cell_type": "code",
   "execution_count": 0,
   "metadata": {
    "colab": {},
    "colab_type": "code",
    "id": "xil0cY9X65ot"
   },
   "outputs": [],
   "source": [
    "def get_fitted_estimator_sklearn(\n",
    "        data,\n",
    "        n_classes,\n",
    "        covariance_type,\n",
    "        means_init=None,\n",
    "        init_params='kmeans',\n",
    "        max_iter=100,\n",
    "):\n",
    "    estimator = ???\n",
    "    estimator.fit(data['train']['x'])\n",
    "    return estimator"
   ]
  },
  {
   "cell_type": "markdown",
   "metadata": {
    "colab_type": "text",
    "id": "cMOK9RZR65ov"
   },
   "source": [
    "### Predictions with same number of classes"
   ]
  },
  {
   "cell_type": "markdown",
   "metadata": {
    "colab_type": "text",
    "id": "68o7Q_sZ65ow"
   },
   "source": [
    "### Random initialization"
   ]
  },
  {
   "cell_type": "code",
   "execution_count": 0,
   "metadata": {},
   "outputs": [],
   "source": [
    "estimator = get_fitted_estimator_sklearn(data, 3, 'diag', means_init=None, init_params='random', max_iter=100)\n",
    "estimator"
   ]
  },
  {
   "cell_type": "code",
   "execution_count": 0,
   "metadata": {
    "colab": {
     "base_uri": "https://localhost:8080/",
     "height": 428
    },
    "colab_type": "code",
    "id": "JD-XglEV65ox",
    "outputId": "aed7cb63-d712-416e-e07b-e024fa97f8f9"
   },
   "outputs": [],
   "source": [
    "plot_prediction(get_fitted_estimator_sklearn(data, 3, 'diag', means_init=None, init_params='random', max_iter=100))"
   ]
  },
  {
   "cell_type": "markdown",
   "metadata": {
    "colab_type": "text",
    "id": "etc-_S4w65o0"
   },
   "source": [
    "### Initialize mean with training data"
   ]
  },
  {
   "cell_type": "code",
   "execution_count": 0,
   "metadata": {
    "colab": {
     "base_uri": "https://localhost:8080/",
     "height": 428
    },
    "colab_type": "code",
    "id": "z1eChFj265o0",
    "outputId": "836c71f5-feb3-40ac-d940-4b215e25782d"
   },
   "outputs": [],
   "source": [
    "plot_prediction(get_fitted_estimator_sklearn(data, 3, 'full', means_init=means_init, init_params='random'))"
   ]
  },
  {
   "cell_type": "markdown",
   "metadata": {
    "colab_type": "text",
    "id": "IApgfeAM65o3"
   },
   "source": [
    "**Try to adjust the number of iterations. Is it possible to get an equally good result with random initialization? What is the advantage of the random initialization?**"
   ]
  },
  {
   "cell_type": "markdown",
   "metadata": {
    "colab_type": "text",
    "id": "CZL0UJvf65o4"
   },
   "source": [
    "### Now try out `kmeans` initialization"
   ]
  },
  {
   "cell_type": "code",
   "execution_count": 0,
   "metadata": {
    "colab": {
     "base_uri": "https://localhost:8080/",
     "height": 428
    },
    "colab_type": "code",
    "id": "OGJKVJ_065o4",
    "outputId": "eba466cc-5e44-48bf-d1a9-e19919246415"
   },
   "outputs": [],
   "source": [
    "plot_prediction(get_fitted_estimator_sklearn(data, 3, 'diag', means_init=None, init_params='kmeans'))"
   ]
  },
  {
   "cell_type": "markdown",
   "metadata": {
    "colab_type": "text",
    "id": "V5sJun1S65o7"
   },
   "source": [
    "**How does it work? Explain why the colors do not match. What are the (dis)advantages of the kmeans initialization?**"
   ]
  },
  {
   "cell_type": "markdown",
   "metadata": {
    "colab_type": "text",
    "id": "E-c7kDZx65o8"
   },
   "source": [
    "## Predictions with different number of classes"
   ]
  },
  {
   "cell_type": "code",
   "execution_count": 0,
   "metadata": {
    "colab": {
     "base_uri": "https://localhost:8080/",
     "height": 1250
    },
    "colab_type": "code",
    "id": "uHICz_c765o8",
    "outputId": "599b1d89-b741-4497-c89b-bf204b162318"
   },
   "outputs": [],
   "source": [
    "plot_prediction(get_fitted_estimator_sklearn(data, 3, 'diag', means_init=None, init_params='kmeans'))\n",
    "plot_prediction(get_fitted_estimator_sklearn(data, 4, 'diag', means_init=None, init_params='kmeans'))\n",
    "plot_prediction(get_fitted_estimator_sklearn(data, 5, 'diag', means_init=None, init_params='kmeans'))"
   ]
  },
  {
   "cell_type": "markdown",
   "metadata": {
    "colab_type": "text",
    "id": "tnsJpJfL65o_"
   },
   "source": [
    "**What is the best segmentation? How would you choose the number of classes?**"
   ]
  },
  {
   "cell_type": "markdown",
   "metadata": {
    "colab_type": "text",
    "id": "Wf138oJd65o_"
   },
   "source": [
    "## Bayesian GMM"
   ]
  },
  {
   "cell_type": "code",
   "execution_count": 0,
   "metadata": {
    "colab": {},
    "colab_type": "code",
    "id": "F6E9YhWi65o_"
   },
   "outputs": [],
   "source": [
    "BayesianGaussianMixture?"
   ]
  },
  {
   "cell_type": "code",
   "execution_count": 0,
   "metadata": {
    "colab": {},
    "colab_type": "code",
    "id": "29IIEW6U65pB"
   },
   "outputs": [],
   "source": [
    "def get_fitted_bayesian_estimator(data, n_classes, covariance_type, max_iter, weight_concentration_prior, init_params='kmeans', random_state=0):\n",
    "    estimator = BayesianGaussianMixture(\n",
    "        ???\n",
    "    )\n",
    "    estimator.fit(data['train']['x'])\n",
    "    return estimator"
   ]
  },
  {
   "cell_type": "code",
   "execution_count": 0,
   "metadata": {
    "colab": {},
    "colab_type": "code",
    "id": "oa31An8n65pD"
   },
   "outputs": [],
   "source": [
    "data = generate_data(3, 1000)"
   ]
  },
  {
   "cell_type": "markdown",
   "metadata": {
    "colab_type": "text",
    "id": "Ft2iNG5e65pG"
   },
   "source": [
    "#### Different number of EM iterations"
   ]
  },
  {
   "cell_type": "code",
   "execution_count": 0,
   "metadata": {
    "colab": {
     "base_uri": "https://localhost:8080/",
     "height": 4181
    },
    "colab_type": "code",
    "id": "bzgp_F0i65pG",
    "outputId": "08583368-d8fb-4749-afd5-4f5955ff67ed"
   },
   "outputs": [],
   "source": [
    "for max_steps in range(1, 1000, 100):\n",
    "    plot_prediction(get_fitted_bayesian_estimator(data, 6, 'diag', max_steps, None, 'kmeans'))"
   ]
  },
  {
   "cell_type": "markdown",
   "metadata": {
    "colab_type": "text",
    "id": "CxHwJkAY65pK"
   },
   "source": [
    "#### Play around with the parameters. How does the prior influence the result? What happens for random initializations?"
   ]
  },
  {
   "cell_type": "code",
   "execution_count": 0,
   "metadata": {
    "colab": {},
    "colab_type": "code",
    "id": "Tbgcpc7465pL"
   },
   "outputs": [],
   "source": [
    "# ..."
   ]
  }
 ],
 "metadata": {
  "colab": {
   "collapsed_sections": [
    "oErygZcc65oC"
   ],
   "name": "EM_solution.ipynb",
   "provenance": [],
   "toc_visible": true,
   "version": "0.3.2"
  },
  "kernelspec": {
   "display_name": "Python 3 (ipykernel)",
   "language": "python",
   "name": "python3"
  },
  "language_info": {
   "codemirror_mode": {
    "name": "ipython",
    "version": 3
   },
   "file_extension": ".py",
   "mimetype": "text/x-python",
   "name": "python",
   "nbconvert_exporter": "python",
   "pygments_lexer": "ipython3",
   "version": "3.8.8"
  }
 },
 "nbformat": 4,
 "nbformat_minor": 4
}
